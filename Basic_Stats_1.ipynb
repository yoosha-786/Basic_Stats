{
 "cells": [
  {
   "cell_type": "code",
   "execution_count": 2,
   "metadata": {},
   "outputs": [],
   "source": [
    "import pandas as pd"
   ]
  },
  {
   "cell_type": "code",
   "execution_count": 3,
   "metadata": {},
   "outputs": [],
   "source": [
    "import numpy as np"
   ]
  },
  {
   "cell_type": "code",
   "execution_count": 4,
   "metadata": {},
   "outputs": [],
   "source": [
    "import matplotlib.pyplot as plt"
   ]
  },
  {
   "cell_type": "code",
   "execution_count": 5,
   "metadata": {},
   "outputs": [],
   "source": [
    "import scipy.stats as stats"
   ]
  },
  {
   "cell_type": "code",
   "execution_count": 6,
   "metadata": {},
   "outputs": [],
   "source": [
    "credit = pd.read_csv('C:/Users/yoosha/Downloads/creditpromo.csv')"
   ]
  },
  {
   "cell_type": "code",
   "execution_count": 15,
   "metadata": {},
   "outputs": [],
   "source": [
    "diet = pd.read_csv('C:/Users/yoosha/Downloads/dietstudy.csv')"
   ]
  },
  {
   "cell_type": "code",
   "execution_count": 16,
   "metadata": {},
   "outputs": [],
   "source": [
    "dvd = pd.read_csv('C:/Users/yoosha/Downloads/dvdplayer.csv')"
   ]
  },
  {
   "cell_type": "code",
   "execution_count": 17,
   "metadata": {},
   "outputs": [],
   "source": [
    "pol = pd.read_csv('C:/Users/yoosha/Downloads/pollination.csv')"
   ]
  },
  {
   "cell_type": "code",
   "execution_count": 18,
   "metadata": {},
   "outputs": [],
   "source": [
    "samp = pd.read_csv('C:/Users/yoosha/Downloads/sample_survey.csv')"
   ]
  },
  {
   "cell_type": "code",
   "execution_count": 19,
   "metadata": {},
   "outputs": [
    {
     "data": {
      "text/html": [
       "<div>\n",
       "<style scoped>\n",
       "    .dataframe tbody tr th:only-of-type {\n",
       "        vertical-align: middle;\n",
       "    }\n",
       "\n",
       "    .dataframe tbody tr th {\n",
       "        vertical-align: top;\n",
       "    }\n",
       "\n",
       "    .dataframe thead th {\n",
       "        text-align: right;\n",
       "    }\n",
       "</style>\n",
       "<table border=\"1\" class=\"dataframe\">\n",
       "  <thead>\n",
       "    <tr style=\"text-align: right;\">\n",
       "      <th></th>\n",
       "      <th>patid</th>\n",
       "      <th>age</th>\n",
       "      <th>gender</th>\n",
       "      <th>tg0</th>\n",
       "      <th>tg1</th>\n",
       "      <th>tg2</th>\n",
       "      <th>tg3</th>\n",
       "      <th>tg4</th>\n",
       "      <th>wgt0</th>\n",
       "      <th>wgt1</th>\n",
       "      <th>wgt2</th>\n",
       "      <th>wgt3</th>\n",
       "      <th>wgt4</th>\n",
       "    </tr>\n",
       "  </thead>\n",
       "  <tbody>\n",
       "    <tr>\n",
       "      <th>0</th>\n",
       "      <td>1</td>\n",
       "      <td>45</td>\n",
       "      <td>Male</td>\n",
       "      <td>180</td>\n",
       "      <td>148</td>\n",
       "      <td>106</td>\n",
       "      <td>113</td>\n",
       "      <td>100</td>\n",
       "      <td>198</td>\n",
       "      <td>196</td>\n",
       "      <td>193</td>\n",
       "      <td>188</td>\n",
       "      <td>192</td>\n",
       "    </tr>\n",
       "    <tr>\n",
       "      <th>1</th>\n",
       "      <td>2</td>\n",
       "      <td>56</td>\n",
       "      <td>Male</td>\n",
       "      <td>139</td>\n",
       "      <td>94</td>\n",
       "      <td>119</td>\n",
       "      <td>75</td>\n",
       "      <td>92</td>\n",
       "      <td>237</td>\n",
       "      <td>233</td>\n",
       "      <td>232</td>\n",
       "      <td>228</td>\n",
       "      <td>225</td>\n",
       "    </tr>\n",
       "    <tr>\n",
       "      <th>2</th>\n",
       "      <td>3</td>\n",
       "      <td>50</td>\n",
       "      <td>Male</td>\n",
       "      <td>152</td>\n",
       "      <td>185</td>\n",
       "      <td>86</td>\n",
       "      <td>149</td>\n",
       "      <td>118</td>\n",
       "      <td>233</td>\n",
       "      <td>231</td>\n",
       "      <td>229</td>\n",
       "      <td>228</td>\n",
       "      <td>226</td>\n",
       "    </tr>\n",
       "    <tr>\n",
       "      <th>3</th>\n",
       "      <td>4</td>\n",
       "      <td>46</td>\n",
       "      <td>Female</td>\n",
       "      <td>112</td>\n",
       "      <td>145</td>\n",
       "      <td>136</td>\n",
       "      <td>149</td>\n",
       "      <td>82</td>\n",
       "      <td>179</td>\n",
       "      <td>181</td>\n",
       "      <td>177</td>\n",
       "      <td>174</td>\n",
       "      <td>172</td>\n",
       "    </tr>\n",
       "    <tr>\n",
       "      <th>4</th>\n",
       "      <td>5</td>\n",
       "      <td>64</td>\n",
       "      <td>Male</td>\n",
       "      <td>156</td>\n",
       "      <td>104</td>\n",
       "      <td>157</td>\n",
       "      <td>79</td>\n",
       "      <td>97</td>\n",
       "      <td>219</td>\n",
       "      <td>217</td>\n",
       "      <td>215</td>\n",
       "      <td>213</td>\n",
       "      <td>214</td>\n",
       "    </tr>\n",
       "  </tbody>\n",
       "</table>\n",
       "</div>"
      ],
      "text/plain": [
       "   patid  age  gender  tg0  tg1  tg2  tg3  tg4  wgt0  wgt1  wgt2  wgt3  wgt4\n",
       "0      1   45    Male  180  148  106  113  100   198   196   193   188   192\n",
       "1      2   56    Male  139   94  119   75   92   237   233   232   228   225\n",
       "2      3   50    Male  152  185   86  149  118   233   231   229   228   226\n",
       "3      4   46  Female  112  145  136  149   82   179   181   177   174   172\n",
       "4      5   64    Male  156  104  157   79   97   219   217   215   213   214"
      ]
     },
     "execution_count": 19,
     "metadata": {},
     "output_type": "execute_result"
    }
   ],
   "source": [
    "diet.head()"
   ]
  },
  {
   "cell_type": "markdown",
   "metadata": {},
   "source": [
    "# 1"
   ]
  },
  {
   "cell_type": "code",
   "execution_count": 20,
   "metadata": {},
   "outputs": [
    {
     "data": {
      "text/plain": [
       "Ttest_relResult(statistic=1.2000008533342437, pvalue=0.24874946576903698)"
      ]
     },
     "execution_count": 20,
     "metadata": {},
     "output_type": "execute_result"
    }
   ],
   "source": [
    "diet_rel_trigly =  stats.ttest_rel(a = diet.tg0 ,  b = diet.tg4)\n",
    "diet_rel_trigly"
   ]
  },
  {
   "cell_type": "code",
   "execution_count": 22,
   "metadata": {},
   "outputs": [
    {
     "data": {
      "text/plain": [
       "Ttest_relResult(statistic=11.174521688532522, pvalue=1.137689414996614e-08)"
      ]
     },
     "execution_count": 22,
     "metadata": {},
     "output_type": "execute_result"
    }
   ],
   "source": [
    "diet_rel_wt =  stats.ttest_rel(a = diet.wgt0 ,  b = diet.wgt4)\n",
    "diet_rel_wt"
   ]
  },
  {
   "cell_type": "code",
   "execution_count": null,
   "metadata": {},
   "outputs": [],
   "source": [
    " # Since Triglyceride level has changed, we can infer overall measurement has changed"
   ]
  },
  {
   "cell_type": "markdown",
   "metadata": {},
   "source": [
    "# 2"
   ]
  },
  {
   "cell_type": "code",
   "execution_count": 23,
   "metadata": {},
   "outputs": [
    {
     "data": {
      "text/html": [
       "<div>\n",
       "<style scoped>\n",
       "    .dataframe tbody tr th:only-of-type {\n",
       "        vertical-align: middle;\n",
       "    }\n",
       "\n",
       "    .dataframe tbody tr th {\n",
       "        vertical-align: top;\n",
       "    }\n",
       "\n",
       "    .dataframe thead th {\n",
       "        text-align: right;\n",
       "    }\n",
       "</style>\n",
       "<table border=\"1\" class=\"dataframe\">\n",
       "  <thead>\n",
       "    <tr style=\"text-align: right;\">\n",
       "      <th></th>\n",
       "      <th>id</th>\n",
       "      <th>insert</th>\n",
       "      <th>dollars</th>\n",
       "    </tr>\n",
       "  </thead>\n",
       "  <tbody>\n",
       "    <tr>\n",
       "      <th>0</th>\n",
       "      <td>148</td>\n",
       "      <td>Standard</td>\n",
       "      <td>2232.771979</td>\n",
       "    </tr>\n",
       "    <tr>\n",
       "      <th>1</th>\n",
       "      <td>572</td>\n",
       "      <td>New Promotion</td>\n",
       "      <td>1403.807542</td>\n",
       "    </tr>\n",
       "    <tr>\n",
       "      <th>2</th>\n",
       "      <td>973</td>\n",
       "      <td>Standard</td>\n",
       "      <td>2327.092181</td>\n",
       "    </tr>\n",
       "    <tr>\n",
       "      <th>3</th>\n",
       "      <td>1096</td>\n",
       "      <td>Standard</td>\n",
       "      <td>1280.030541</td>\n",
       "    </tr>\n",
       "    <tr>\n",
       "      <th>4</th>\n",
       "      <td>1541</td>\n",
       "      <td>New Promotion</td>\n",
       "      <td>1513.563200</td>\n",
       "    </tr>\n",
       "  </tbody>\n",
       "</table>\n",
       "</div>"
      ],
      "text/plain": [
       "     id         insert      dollars\n",
       "0   148       Standard  2232.771979\n",
       "1   572  New Promotion  1403.807542\n",
       "2   973       Standard  2327.092181\n",
       "3  1096       Standard  1280.030541\n",
       "4  1541  New Promotion  1513.563200"
      ]
     },
     "execution_count": 23,
     "metadata": {},
     "output_type": "execute_result"
    }
   ],
   "source": [
    "credit.head()"
   ]
  },
  {
   "cell_type": "code",
   "execution_count": 28,
   "metadata": {},
   "outputs": [],
   "source": [
    "credit['S1'] = credit[credit.insert == 'Standard'] = 0\n",
    "credit['S2'] = credit[credit.insert == 'New Promotion'] = 1"
   ]
  },
  {
   "cell_type": "code",
   "execution_count": 29,
   "metadata": {},
   "outputs": [
    {
     "data": {
      "text/plain": [
       "Ttest_relResult(statistic=-101.42608074945085, pvalue=0.0)"
      ]
     },
     "execution_count": 29,
     "metadata": {},
     "output_type": "execute_result"
    }
   ],
   "source": [
    "stats.ttest_rel(a = credit.S1 , b = credit.dollars)"
   ]
  },
  {
   "cell_type": "code",
   "execution_count": 30,
   "metadata": {},
   "outputs": [
    {
     "data": {
      "text/plain": [
       "Ttest_relResult(statistic=-101.36276639598525, pvalue=0.0)"
      ]
     },
     "execution_count": 30,
     "metadata": {},
     "output_type": "execute_result"
    }
   ],
   "source": [
    "stats.ttest_rel(a = credit.S2 , b = credit.dollars)"
   ]
  },
  {
   "cell_type": "code",
   "execution_count": null,
   "metadata": {},
   "outputs": [],
   "source": [
    "# Since p value in each case is zero , there is no effective difference in promotions to increase the sales."
   ]
  },
  {
   "cell_type": "markdown",
   "metadata": {},
   "source": [
    "# 3"
   ]
  },
  {
   "cell_type": "code",
   "execution_count": 31,
   "metadata": {},
   "outputs": [
    {
     "data": {
      "text/html": [
       "<div>\n",
       "<style scoped>\n",
       "    .dataframe tbody tr th:only-of-type {\n",
       "        vertical-align: middle;\n",
       "    }\n",
       "\n",
       "    .dataframe tbody tr th {\n",
       "        vertical-align: top;\n",
       "    }\n",
       "\n",
       "    .dataframe thead th {\n",
       "        text-align: right;\n",
       "    }\n",
       "</style>\n",
       "<table border=\"1\" class=\"dataframe\">\n",
       "  <thead>\n",
       "    <tr style=\"text-align: right;\">\n",
       "      <th></th>\n",
       "      <th>Group</th>\n",
       "      <th>Fruit_Wt</th>\n",
       "      <th>Seed_Yield_Plant</th>\n",
       "      <th>Seedling_length</th>\n",
       "    </tr>\n",
       "  </thead>\n",
       "  <tbody>\n",
       "    <tr>\n",
       "      <th>0</th>\n",
       "      <td>Natural</td>\n",
       "      <td>1.85</td>\n",
       "      <td>147.70</td>\n",
       "      <td>16.86</td>\n",
       "    </tr>\n",
       "    <tr>\n",
       "      <th>1</th>\n",
       "      <td>Natural</td>\n",
       "      <td>1.86</td>\n",
       "      <td>136.86</td>\n",
       "      <td>16.77</td>\n",
       "    </tr>\n",
       "    <tr>\n",
       "      <th>2</th>\n",
       "      <td>Natural</td>\n",
       "      <td>1.83</td>\n",
       "      <td>149.97</td>\n",
       "      <td>16.35</td>\n",
       "    </tr>\n",
       "    <tr>\n",
       "      <th>3</th>\n",
       "      <td>Natural</td>\n",
       "      <td>1.89</td>\n",
       "      <td>172.33</td>\n",
       "      <td>18.26</td>\n",
       "    </tr>\n",
       "    <tr>\n",
       "      <th>4</th>\n",
       "      <td>Natural</td>\n",
       "      <td>1.80</td>\n",
       "      <td>144.46</td>\n",
       "      <td>17.90</td>\n",
       "    </tr>\n",
       "  </tbody>\n",
       "</table>\n",
       "</div>"
      ],
      "text/plain": [
       "     Group  Fruit_Wt  Seed_Yield_Plant  Seedling_length\n",
       "0  Natural      1.85            147.70            16.86\n",
       "1  Natural      1.86            136.86            16.77\n",
       "2  Natural      1.83            149.97            16.35\n",
       "3  Natural      1.89            172.33            18.26\n",
       "4  Natural      1.80            144.46            17.90"
      ]
     },
     "execution_count": 31,
     "metadata": {},
     "output_type": "execute_result"
    }
   ],
   "source": [
    "pol.head()"
   ]
  },
  {
   "cell_type": "code",
   "execution_count": 32,
   "metadata": {},
   "outputs": [
    {
     "data": {
      "text/plain": [
       "Ttest_1sampResult(statistic=-2.3009121248548645, pvalue=0.032891040921283025)"
      ]
     },
     "execution_count": 32,
     "metadata": {},
     "output_type": "execute_result"
    }
   ],
   "source": [
    "overall_test = stats.ttest_1samp(a = pol.Seed_Yield_Plant, popmean = 200)\n",
    "overall_test"
   ]
  },
  {
   "cell_type": "code",
   "execution_count": null,
   "metadata": {},
   "outputs": [],
   "source": [
    "# We can infer that overall population is equal to 200."
   ]
  },
  {
   "cell_type": "code",
   "execution_count": 33,
   "metadata": {
    "collapsed": true
   },
   "outputs": [
    {
     "name": "stderr",
     "output_type": "stream",
     "text": [
      "C:\\Users\\yoosha\\Anaconda3\\lib\\site-packages\\ipykernel_launcher.py:1: SettingWithCopyWarning: \n",
      "A value is trying to be set on a copy of a slice from a DataFrame\n",
      "\n",
      "See the caveats in the documentation: http://pandas.pydata.org/pandas-docs/stable/indexing.html#indexing-view-versus-copy\n",
      "  \"\"\"Entry point for launching an IPython kernel.\n",
      "C:\\Users\\yoosha\\Anaconda3\\lib\\site-packages\\ipykernel_launcher.py:2: SettingWithCopyWarning: \n",
      "A value is trying to be set on a copy of a slice from a DataFrame\n",
      "\n",
      "See the caveats in the documentation: http://pandas.pydata.org/pandas-docs/stable/indexing.html#indexing-view-versus-copy\n",
      "  \n"
     ]
    }
   ],
   "source": [
    "pol['N'] = pol.Group[pol.Group == 'Natural'] = 0\n",
    "pol['H'] = pol.Group[pol.Group == 'Hand'] = 1"
   ]
  },
  {
   "cell_type": "code",
   "execution_count": 35,
   "metadata": {},
   "outputs": [
    {
     "data": {
      "text/plain": [
       "Ttest_relResult(statistic=-21.67129244217419, pvalue=7.368046270487493e-15)"
      ]
     },
     "execution_count": 35,
     "metadata": {},
     "output_type": "execute_result"
    }
   ],
   "source": [
    "stats.ttest_rel(a = pol.N , b = pol.Seed_Yield_Plant)"
   ]
  },
  {
   "cell_type": "code",
   "execution_count": 36,
   "metadata": {},
   "outputs": [
    {
     "data": {
      "text/plain": [
       "Ttest_relResult(statistic=-21.551431419339046, pvalue=8.154801460191006e-15)"
      ]
     },
     "execution_count": 36,
     "metadata": {},
     "output_type": "execute_result"
    }
   ],
   "source": [
    "stats.ttest_rel(a = pol.H , b = pol.Seed_Yield_Plant)"
   ]
  },
  {
   "cell_type": "code",
   "execution_count": null,
   "metadata": {},
   "outputs": [],
   "source": [
    "# We can infer that both Natural and Hand pollination are equally effective."
   ]
  },
  {
   "cell_type": "markdown",
   "metadata": {},
   "source": [
    "# 4"
   ]
  },
  {
   "cell_type": "code",
   "execution_count": 37,
   "metadata": {},
   "outputs": [
    {
     "data": {
      "text/html": [
       "<div>\n",
       "<style scoped>\n",
       "    .dataframe tbody tr th:only-of-type {\n",
       "        vertical-align: middle;\n",
       "    }\n",
       "\n",
       "    .dataframe tbody tr th {\n",
       "        vertical-align: top;\n",
       "    }\n",
       "\n",
       "    .dataframe thead th {\n",
       "        text-align: right;\n",
       "    }\n",
       "</style>\n",
       "<table border=\"1\" class=\"dataframe\">\n",
       "  <thead>\n",
       "    <tr style=\"text-align: right;\">\n",
       "      <th></th>\n",
       "      <th>agegroup</th>\n",
       "      <th>dvdscore</th>\n",
       "    </tr>\n",
       "  </thead>\n",
       "  <tbody>\n",
       "    <tr>\n",
       "      <th>0</th>\n",
       "      <td>65 and over</td>\n",
       "      <td>38.454803</td>\n",
       "    </tr>\n",
       "    <tr>\n",
       "      <th>1</th>\n",
       "      <td>55-64</td>\n",
       "      <td>17.669677</td>\n",
       "    </tr>\n",
       "    <tr>\n",
       "      <th>2</th>\n",
       "      <td>65 and over</td>\n",
       "      <td>31.704307</td>\n",
       "    </tr>\n",
       "    <tr>\n",
       "      <th>3</th>\n",
       "      <td>65 and over</td>\n",
       "      <td>25.924460</td>\n",
       "    </tr>\n",
       "    <tr>\n",
       "      <th>4</th>\n",
       "      <td>Under 25</td>\n",
       "      <td>30.450007</td>\n",
       "    </tr>\n",
       "  </tbody>\n",
       "</table>\n",
       "</div>"
      ],
      "text/plain": [
       "      agegroup   dvdscore\n",
       "0  65 and over  38.454803\n",
       "1        55-64  17.669677\n",
       "2  65 and over  31.704307\n",
       "3  65 and over  25.924460\n",
       "4     Under 25  30.450007"
      ]
     },
     "execution_count": 37,
     "metadata": {},
     "output_type": "execute_result"
    }
   ],
   "source": [
    "dvd.head()"
   ]
  },
  {
   "cell_type": "code",
   "execution_count": 38,
   "metadata": {},
   "outputs": [],
   "source": [
    "a = pd.crosstab(index = dvd.agegroup , columns = dvd.dvdscore)"
   ]
  },
  {
   "cell_type": "code",
   "execution_count": 39,
   "metadata": {
    "collapsed": true
   },
   "outputs": [
    {
     "data": {
      "text/plain": [
       "(340.0,\n",
       " 0.41373734188694833,\n",
       " 335,\n",
       " array([[0.14705882, 0.14705882, 0.14705882, 0.14705882, 0.14705882,\n",
       "         0.14705882, 0.14705882, 0.14705882, 0.14705882, 0.14705882,\n",
       "         0.14705882, 0.14705882, 0.14705882, 0.14705882, 0.14705882,\n",
       "         0.14705882, 0.14705882, 0.14705882, 0.14705882, 0.14705882,\n",
       "         0.14705882, 0.14705882, 0.14705882, 0.14705882, 0.14705882,\n",
       "         0.14705882, 0.14705882, 0.14705882, 0.14705882, 0.14705882,\n",
       "         0.14705882, 0.14705882, 0.14705882, 0.14705882, 0.14705882,\n",
       "         0.14705882, 0.14705882, 0.14705882, 0.14705882, 0.14705882,\n",
       "         0.14705882, 0.14705882, 0.14705882, 0.14705882, 0.14705882,\n",
       "         0.14705882, 0.14705882, 0.14705882, 0.14705882, 0.14705882,\n",
       "         0.14705882, 0.14705882, 0.14705882, 0.14705882, 0.14705882,\n",
       "         0.14705882, 0.14705882, 0.14705882, 0.14705882, 0.14705882,\n",
       "         0.14705882, 0.14705882, 0.14705882, 0.14705882, 0.14705882,\n",
       "         0.14705882, 0.14705882, 0.14705882],\n",
       "        [0.17647059, 0.17647059, 0.17647059, 0.17647059, 0.17647059,\n",
       "         0.17647059, 0.17647059, 0.17647059, 0.17647059, 0.17647059,\n",
       "         0.17647059, 0.17647059, 0.17647059, 0.17647059, 0.17647059,\n",
       "         0.17647059, 0.17647059, 0.17647059, 0.17647059, 0.17647059,\n",
       "         0.17647059, 0.17647059, 0.17647059, 0.17647059, 0.17647059,\n",
       "         0.17647059, 0.17647059, 0.17647059, 0.17647059, 0.17647059,\n",
       "         0.17647059, 0.17647059, 0.17647059, 0.17647059, 0.17647059,\n",
       "         0.17647059, 0.17647059, 0.17647059, 0.17647059, 0.17647059,\n",
       "         0.17647059, 0.17647059, 0.17647059, 0.17647059, 0.17647059,\n",
       "         0.17647059, 0.17647059, 0.17647059, 0.17647059, 0.17647059,\n",
       "         0.17647059, 0.17647059, 0.17647059, 0.17647059, 0.17647059,\n",
       "         0.17647059, 0.17647059, 0.17647059, 0.17647059, 0.17647059,\n",
       "         0.17647059, 0.17647059, 0.17647059, 0.17647059, 0.17647059,\n",
       "         0.17647059, 0.17647059, 0.17647059],\n",
       "        [0.14705882, 0.14705882, 0.14705882, 0.14705882, 0.14705882,\n",
       "         0.14705882, 0.14705882, 0.14705882, 0.14705882, 0.14705882,\n",
       "         0.14705882, 0.14705882, 0.14705882, 0.14705882, 0.14705882,\n",
       "         0.14705882, 0.14705882, 0.14705882, 0.14705882, 0.14705882,\n",
       "         0.14705882, 0.14705882, 0.14705882, 0.14705882, 0.14705882,\n",
       "         0.14705882, 0.14705882, 0.14705882, 0.14705882, 0.14705882,\n",
       "         0.14705882, 0.14705882, 0.14705882, 0.14705882, 0.14705882,\n",
       "         0.14705882, 0.14705882, 0.14705882, 0.14705882, 0.14705882,\n",
       "         0.14705882, 0.14705882, 0.14705882, 0.14705882, 0.14705882,\n",
       "         0.14705882, 0.14705882, 0.14705882, 0.14705882, 0.14705882,\n",
       "         0.14705882, 0.14705882, 0.14705882, 0.14705882, 0.14705882,\n",
       "         0.14705882, 0.14705882, 0.14705882, 0.14705882, 0.14705882,\n",
       "         0.14705882, 0.14705882, 0.14705882, 0.14705882, 0.14705882,\n",
       "         0.14705882, 0.14705882, 0.14705882],\n",
       "        [0.08823529, 0.08823529, 0.08823529, 0.08823529, 0.08823529,\n",
       "         0.08823529, 0.08823529, 0.08823529, 0.08823529, 0.08823529,\n",
       "         0.08823529, 0.08823529, 0.08823529, 0.08823529, 0.08823529,\n",
       "         0.08823529, 0.08823529, 0.08823529, 0.08823529, 0.08823529,\n",
       "         0.08823529, 0.08823529, 0.08823529, 0.08823529, 0.08823529,\n",
       "         0.08823529, 0.08823529, 0.08823529, 0.08823529, 0.08823529,\n",
       "         0.08823529, 0.08823529, 0.08823529, 0.08823529, 0.08823529,\n",
       "         0.08823529, 0.08823529, 0.08823529, 0.08823529, 0.08823529,\n",
       "         0.08823529, 0.08823529, 0.08823529, 0.08823529, 0.08823529,\n",
       "         0.08823529, 0.08823529, 0.08823529, 0.08823529, 0.08823529,\n",
       "         0.08823529, 0.08823529, 0.08823529, 0.08823529, 0.08823529,\n",
       "         0.08823529, 0.08823529, 0.08823529, 0.08823529, 0.08823529,\n",
       "         0.08823529, 0.08823529, 0.08823529, 0.08823529, 0.08823529,\n",
       "         0.08823529, 0.08823529, 0.08823529],\n",
       "        [0.25      , 0.25      , 0.25      , 0.25      , 0.25      ,\n",
       "         0.25      , 0.25      , 0.25      , 0.25      , 0.25      ,\n",
       "         0.25      , 0.25      , 0.25      , 0.25      , 0.25      ,\n",
       "         0.25      , 0.25      , 0.25      , 0.25      , 0.25      ,\n",
       "         0.25      , 0.25      , 0.25      , 0.25      , 0.25      ,\n",
       "         0.25      , 0.25      , 0.25      , 0.25      , 0.25      ,\n",
       "         0.25      , 0.25      , 0.25      , 0.25      , 0.25      ,\n",
       "         0.25      , 0.25      , 0.25      , 0.25      , 0.25      ,\n",
       "         0.25      , 0.25      , 0.25      , 0.25      , 0.25      ,\n",
       "         0.25      , 0.25      , 0.25      , 0.25      , 0.25      ,\n",
       "         0.25      , 0.25      , 0.25      , 0.25      , 0.25      ,\n",
       "         0.25      , 0.25      , 0.25      , 0.25      , 0.25      ,\n",
       "         0.25      , 0.25      , 0.25      , 0.25      , 0.25      ,\n",
       "         0.25      , 0.25      , 0.25      ],\n",
       "        [0.19117647, 0.19117647, 0.19117647, 0.19117647, 0.19117647,\n",
       "         0.19117647, 0.19117647, 0.19117647, 0.19117647, 0.19117647,\n",
       "         0.19117647, 0.19117647, 0.19117647, 0.19117647, 0.19117647,\n",
       "         0.19117647, 0.19117647, 0.19117647, 0.19117647, 0.19117647,\n",
       "         0.19117647, 0.19117647, 0.19117647, 0.19117647, 0.19117647,\n",
       "         0.19117647, 0.19117647, 0.19117647, 0.19117647, 0.19117647,\n",
       "         0.19117647, 0.19117647, 0.19117647, 0.19117647, 0.19117647,\n",
       "         0.19117647, 0.19117647, 0.19117647, 0.19117647, 0.19117647,\n",
       "         0.19117647, 0.19117647, 0.19117647, 0.19117647, 0.19117647,\n",
       "         0.19117647, 0.19117647, 0.19117647, 0.19117647, 0.19117647,\n",
       "         0.19117647, 0.19117647, 0.19117647, 0.19117647, 0.19117647,\n",
       "         0.19117647, 0.19117647, 0.19117647, 0.19117647, 0.19117647,\n",
       "         0.19117647, 0.19117647, 0.19117647, 0.19117647, 0.19117647,\n",
       "         0.19117647, 0.19117647, 0.19117647]]))"
      ]
     },
     "execution_count": 39,
     "metadata": {},
     "output_type": "execute_result"
    }
   ],
   "source": [
    "stats.chi2_contingency(a)"
   ]
  },
  {
   "cell_type": "code",
   "execution_count": null,
   "metadata": {},
   "outputs": [],
   "source": [
    "# We can infer that consumers of various ages rated the design differently."
   ]
  },
  {
   "cell_type": "markdown",
   "metadata": {},
   "source": [
    "# 5"
   ]
  },
  {
   "cell_type": "code",
   "execution_count": 43,
   "metadata": {
    "collapsed": true
   },
   "outputs": [
    {
     "data": {
      "text/html": [
       "<div>\n",
       "<style scoped>\n",
       "    .dataframe tbody tr th:only-of-type {\n",
       "        vertical-align: middle;\n",
       "    }\n",
       "\n",
       "    .dataframe tbody tr th {\n",
       "        vertical-align: top;\n",
       "    }\n",
       "\n",
       "    .dataframe thead th {\n",
       "        text-align: right;\n",
       "    }\n",
       "</style>\n",
       "<table border=\"1\" class=\"dataframe\">\n",
       "  <thead>\n",
       "    <tr style=\"text-align: right;\">\n",
       "      <th></th>\n",
       "      <th>id</th>\n",
       "      <th>wrkstat</th>\n",
       "      <th>marital</th>\n",
       "      <th>childs</th>\n",
       "      <th>age</th>\n",
       "      <th>educ</th>\n",
       "      <th>paeduc</th>\n",
       "      <th>maeduc</th>\n",
       "      <th>speduc</th>\n",
       "      <th>degree</th>\n",
       "      <th>...</th>\n",
       "      <th>agecat</th>\n",
       "      <th>childcat</th>\n",
       "      <th>news1</th>\n",
       "      <th>news2</th>\n",
       "      <th>news3</th>\n",
       "      <th>news4</th>\n",
       "      <th>news5</th>\n",
       "      <th>car1</th>\n",
       "      <th>car2</th>\n",
       "      <th>car3</th>\n",
       "    </tr>\n",
       "  </thead>\n",
       "  <tbody>\n",
       "    <tr>\n",
       "      <th>0</th>\n",
       "      <td>1</td>\n",
       "      <td>Working full time</td>\n",
       "      <td>Divorced</td>\n",
       "      <td>2.0</td>\n",
       "      <td>60.0</td>\n",
       "      <td>12.0</td>\n",
       "      <td>12.0</td>\n",
       "      <td>12.0</td>\n",
       "      <td>NaN</td>\n",
       "      <td>High school</td>\n",
       "      <td>...</td>\n",
       "      <td>55 to 64</td>\n",
       "      <td>1-2</td>\n",
       "      <td>No</td>\n",
       "      <td>No</td>\n",
       "      <td>No</td>\n",
       "      <td>No</td>\n",
       "      <td>No</td>\n",
       "      <td>American</td>\n",
       "      <td>Japanese</td>\n",
       "      <td>Japanese</td>\n",
       "    </tr>\n",
       "    <tr>\n",
       "      <th>1</th>\n",
       "      <td>2</td>\n",
       "      <td>Working part-time</td>\n",
       "      <td>Never married</td>\n",
       "      <td>0.0</td>\n",
       "      <td>27.0</td>\n",
       "      <td>17.0</td>\n",
       "      <td>20.0</td>\n",
       "      <td>NaN</td>\n",
       "      <td>NaN</td>\n",
       "      <td>Junior college</td>\n",
       "      <td>...</td>\n",
       "      <td>25 to 34</td>\n",
       "      <td>None</td>\n",
       "      <td>No</td>\n",
       "      <td>No</td>\n",
       "      <td>Yes</td>\n",
       "      <td>No</td>\n",
       "      <td>No</td>\n",
       "      <td>American</td>\n",
       "      <td>German</td>\n",
       "      <td>Japanese</td>\n",
       "    </tr>\n",
       "    <tr>\n",
       "      <th>2</th>\n",
       "      <td>3</td>\n",
       "      <td>Working full time</td>\n",
       "      <td>Married</td>\n",
       "      <td>2.0</td>\n",
       "      <td>36.0</td>\n",
       "      <td>12.0</td>\n",
       "      <td>12.0</td>\n",
       "      <td>12.0</td>\n",
       "      <td>16.0</td>\n",
       "      <td>High school</td>\n",
       "      <td>...</td>\n",
       "      <td>35 to 44</td>\n",
       "      <td>1-2</td>\n",
       "      <td>No</td>\n",
       "      <td>No</td>\n",
       "      <td>No</td>\n",
       "      <td>Yes</td>\n",
       "      <td>Yes</td>\n",
       "      <td>American</td>\n",
       "      <td>American</td>\n",
       "      <td>NaN</td>\n",
       "    </tr>\n",
       "    <tr>\n",
       "      <th>3</th>\n",
       "      <td>4</td>\n",
       "      <td>Working full time</td>\n",
       "      <td>Never married</td>\n",
       "      <td>0.0</td>\n",
       "      <td>21.0</td>\n",
       "      <td>13.0</td>\n",
       "      <td>NaN</td>\n",
       "      <td>12.0</td>\n",
       "      <td>NaN</td>\n",
       "      <td>High school</td>\n",
       "      <td>...</td>\n",
       "      <td>Less than 25</td>\n",
       "      <td>None</td>\n",
       "      <td>No</td>\n",
       "      <td>No</td>\n",
       "      <td>No</td>\n",
       "      <td>Yes</td>\n",
       "      <td>Yes</td>\n",
       "      <td>American</td>\n",
       "      <td>Other</td>\n",
       "      <td>NaN</td>\n",
       "    </tr>\n",
       "    <tr>\n",
       "      <th>4</th>\n",
       "      <td>5</td>\n",
       "      <td>Working full time</td>\n",
       "      <td>Never married</td>\n",
       "      <td>0.0</td>\n",
       "      <td>35.0</td>\n",
       "      <td>16.0</td>\n",
       "      <td>NaN</td>\n",
       "      <td>12.0</td>\n",
       "      <td>NaN</td>\n",
       "      <td>Bachelor</td>\n",
       "      <td>...</td>\n",
       "      <td>35 to 44</td>\n",
       "      <td>None</td>\n",
       "      <td>No</td>\n",
       "      <td>No</td>\n",
       "      <td>No</td>\n",
       "      <td>No</td>\n",
       "      <td>No</td>\n",
       "      <td>American</td>\n",
       "      <td>American</td>\n",
       "      <td>Korean</td>\n",
       "    </tr>\n",
       "  </tbody>\n",
       "</table>\n",
       "<p>5 rows × 46 columns</p>\n",
       "</div>"
      ],
      "text/plain": [
       "   id            wrkstat        marital  childs   age  educ  paeduc  maeduc  \\\n",
       "0   1  Working full time       Divorced     2.0  60.0  12.0    12.0    12.0   \n",
       "1   2  Working part-time  Never married     0.0  27.0  17.0    20.0     NaN   \n",
       "2   3  Working full time        Married     2.0  36.0  12.0    12.0    12.0   \n",
       "3   4  Working full time  Never married     0.0  21.0  13.0     NaN    12.0   \n",
       "4   5  Working full time  Never married     0.0  35.0  16.0     NaN    12.0   \n",
       "\n",
       "   speduc          degree  ...        agecat childcat news1 news2  news3  \\\n",
       "0     NaN     High school  ...      55 to 64      1-2    No    No     No   \n",
       "1     NaN  Junior college  ...      25 to 34     None    No    No    Yes   \n",
       "2    16.0     High school  ...      35 to 44      1-2    No    No     No   \n",
       "3     NaN     High school  ...  Less than 25     None    No    No     No   \n",
       "4     NaN        Bachelor  ...      35 to 44     None    No    No     No   \n",
       "\n",
       "  news4 news5      car1      car2      car3  \n",
       "0    No    No  American  Japanese  Japanese  \n",
       "1    No    No  American    German  Japanese  \n",
       "2   Yes   Yes  American  American       NaN  \n",
       "3   Yes   Yes  American     Other       NaN  \n",
       "4    No    No  American  American    Korean  \n",
       "\n",
       "[5 rows x 46 columns]"
      ]
     },
     "execution_count": 43,
     "metadata": {},
     "output_type": "execute_result"
    }
   ],
   "source": [
    "samp.head()"
   ]
  },
  {
   "cell_type": "code",
   "execution_count": 41,
   "metadata": {},
   "outputs": [],
   "source": [
    "relation = pd.crosstab(index = samp.wrkstat , columns = samp.marital)"
   ]
  },
  {
   "cell_type": "code",
   "execution_count": 42,
   "metadata": {
    "collapsed": true
   },
   "outputs": [
    {
     "data": {
      "text/plain": [
       "(729.2421426572284,\n",
       " 1.4875268409067568e-135,\n",
       " 28,\n",
       " array([[ 51.69187279, 155.8869258 ,  76.84240283,  10.77879859,\n",
       "          32.8       ],\n",
       "        [  8.51024735,  25.66431095,  12.65088339,   1.7745583 ,\n",
       "           5.4       ],\n",
       "        [ 62.09328622, 187.25441696,  92.30459364,  12.94770318,\n",
       "          39.4       ],\n",
       "        [ 12.45017668,  37.5459364 ,  18.50777385,   2.59611307,\n",
       "           7.9       ],\n",
       "        [  7.24946996,  21.86219081,  10.77667845,   1.51166078,\n",
       "           4.6       ],\n",
       "        [  9.14063604,  27.56537102,  13.58798587,   1.90600707,\n",
       "           5.8       ],\n",
       "        [246.95477032, 744.74028269, 367.10989399,  51.495053  ,\n",
       "         156.7       ],\n",
       "        [ 47.90954064, 144.48056537,  71.21978799,   9.99010601,\n",
       "          30.4       ]]))"
      ]
     },
     "execution_count": 42,
     "metadata": {},
     "output_type": "execute_result"
    }
   ],
   "source": [
    "stats.chi2_contingency(relation)"
   ]
  },
  {
   "cell_type": "code",
   "execution_count": null,
   "metadata": {},
   "outputs": [],
   "source": [
    "# We can infer that there is no relation between labour force status with marital status."
   ]
  },
  {
   "cell_type": "code",
   "execution_count": 96,
   "metadata": {},
   "outputs": [],
   "source": [
    "edu = pd.crosstab(index = samp.educ , columns = samp.marital)"
   ]
  },
  {
   "cell_type": "code",
   "execution_count": 98,
   "metadata": {
    "collapsed": true
   },
   "outputs": [
    {
     "data": {
      "text/plain": [
       "(221.10896441647762,\n",
       " 4.3102883499745113e-16,\n",
       " 76,\n",
       " array([[3.15005321e-01, 9.49982263e-01, 4.68251153e-01, 6.59808443e-02,\n",
       "         2.00780419e-01],\n",
       "        [7.87513303e-01, 2.37495566e+00, 1.17062788e+00, 1.64952111e-01,\n",
       "         5.01951046e-01],\n",
       "        [1.57502661e+00, 4.74991132e+00, 2.34125576e+00, 3.29904221e-01,\n",
       "         1.00390209e+00],\n",
       "        [1.41752394e+00, 4.27492018e+00, 2.10713019e+00, 2.96913799e-01,\n",
       "         9.03511884e-01],\n",
       "        [1.26002128e+00, 3.79992905e+00, 1.87300461e+00, 2.63923377e-01,\n",
       "         8.03121674e-01],\n",
       "        [3.62256119e+00, 1.09247960e+01, 5.38488826e+00, 7.58779709e-01,\n",
       "         2.30897481e+00],\n",
       "        [3.30755587e+00, 9.97481376e+00, 4.91663711e+00, 6.92798865e-01,\n",
       "         2.10819440e+00],\n",
       "        [1.29152182e+01, 3.89492728e+01, 1.91982973e+01, 2.70521462e+00,\n",
       "         8.23199716e+00],\n",
       "        [1.18126995e+01, 3.56243349e+01, 1.75594182e+01, 2.47428166e+00,\n",
       "         7.52926570e+00],\n",
       "        [1.77978006e+01, 5.36739979e+01, 2.64561901e+01, 3.72791770e+00,\n",
       "         1.13440937e+01],\n",
       "        [2.17353672e+01, 6.55487762e+01, 3.23093295e+01, 4.55267825e+00,\n",
       "         1.38538489e+01],\n",
       "        [1.34034764e+02, 4.04217453e+02, 1.99240866e+02, 2.80748492e+01,\n",
       "         8.54320681e+01],\n",
       "        [4.25257183e+01, 1.28247606e+02, 6.32139056e+01, 8.90741398e+00,\n",
       "         2.71053565e+01],\n",
       "        [5.49684285e+01, 1.65771905e+02, 8.17098262e+01, 1.15136573e+01,\n",
       "         3.50361830e+01],\n",
       "        [2.29953884e+01, 6.93487052e+01, 3.41823342e+01, 4.81660163e+00,\n",
       "         1.46569706e+01],\n",
       "        [6.48910961e+01, 1.95696346e+02, 9.64597375e+01, 1.35920539e+01,\n",
       "         4.13607662e+01],\n",
       "        [1.35452288e+01, 4.08492373e+01, 2.01347996e+01, 2.83717630e+00,\n",
       "         8.63355800e+00],\n",
       "        [1.71677900e+01, 5.17740333e+01, 2.55196878e+01, 3.59595601e+00,\n",
       "         1.09425328e+01],\n",
       "        [6.45760908e+00, 1.94746364e+01, 9.59914863e+00, 1.35260731e+00,\n",
       "         4.11599858e+00],\n",
       "        [1.08676836e+01, 3.27743881e+01, 1.61546648e+01, 2.27633913e+00,\n",
       "         6.92692444e+00]]))"
      ]
     },
     "execution_count": 98,
     "metadata": {},
     "output_type": "execute_result"
    }
   ],
   "source": [
    "stats.chi2_contingency(edu)"
   ]
  },
  {
   "cell_type": "code",
   "execution_count": null,
   "metadata": {},
   "outputs": [],
   "source": [
    "# We can infer that there is no relation between educational qualification with marital status."
   ]
  },
  {
   "cell_type": "code",
   "execution_count": 44,
   "metadata": {},
   "outputs": [],
   "source": [
    "hap_1 = pd.crosstab(index = samp.happy , columns = samp.income)"
   ]
  },
  {
   "cell_type": "code",
   "execution_count": 45,
   "metadata": {},
   "outputs": [
    {
     "data": {
      "text/plain": [
       "(178.9505306121643,\n",
       " 1.4107677273473057e-26,\n",
       " 22,\n",
       " array([[  3.89520355,  23.12777106,  21.66706973,  29.82265216,\n",
       "         191.35187424,   2.92140266,   3.89520355,   4.26037888,\n",
       "           4.01692866,   5.72108021,   7.06005643,   4.26037888],\n",
       "        [ 18.16041919, 107.82748892, 101.01733172, 139.04070939,\n",
       "         892.1305925 ,  13.62031439,  18.16041919,  19.86295848,\n",
       "          18.72793229,  26.67311568,  32.91575977,  19.86295848],\n",
       "        [  9.94437727,  59.04474002,  55.31559855,  76.13663845,\n",
       "         488.51753325,   7.45828295,   9.94437727,  10.87666264,\n",
       "          10.25513906,  14.60580411,  18.0241838 ,  10.87666264]]))"
      ]
     },
     "execution_count": 45,
     "metadata": {},
     "output_type": "execute_result"
    }
   ],
   "source": [
    "stats.chi2_contingency(hap_1)"
   ]
  },
  {
   "cell_type": "code",
   "execution_count": 46,
   "metadata": {},
   "outputs": [],
   "source": [
    "hap_2 = pd.crosstab(index = samp.happy , columns = samp.marital)"
   ]
  },
  {
   "cell_type": "code",
   "execution_count": 47,
   "metadata": {},
   "outputs": [
    {
     "data": {
      "text/plain": [
       "(260.6894389418282,\n",
       " 9.3147261197964e-52,\n",
       " 8,\n",
       " array([[ 53.6969697 , 162.06060606,  79.27272727,  11.15151515,\n",
       "          33.81818182],\n",
       "        [248.58538324, 750.24527629, 366.98609626,  51.62495544,\n",
       "         156.55828877],\n",
       "        [140.71764706, 424.69411765, 207.74117647,  29.22352941,\n",
       "          88.62352941]]))"
      ]
     },
     "execution_count": 47,
     "metadata": {},
     "output_type": "execute_result"
    }
   ],
   "source": [
    "stats.chi2_contingency(hap_2)"
   ]
  },
  {
   "cell_type": "code",
   "execution_count": null,
   "metadata": {},
   "outputs": [],
   "source": [
    "# We can infer that happiness is neither driven by earnings nor by marital status."
   ]
  }
 ],
 "metadata": {
  "kernelspec": {
   "display_name": "Python 3",
   "language": "python",
   "name": "python3"
  },
  "language_info": {
   "codemirror_mode": {
    "name": "ipython",
    "version": 3
   },
   "file_extension": ".py",
   "mimetype": "text/x-python",
   "name": "python",
   "nbconvert_exporter": "python",
   "pygments_lexer": "ipython3",
   "version": "3.7.3"
  }
 },
 "nbformat": 4,
 "nbformat_minor": 2
}
